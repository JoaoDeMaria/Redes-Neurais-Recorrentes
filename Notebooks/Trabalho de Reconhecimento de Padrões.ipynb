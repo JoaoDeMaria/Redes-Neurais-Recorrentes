{
 "cells": [
  {
   "cell_type": "markdown",
   "metadata": {},
   "source": [
    "<h1 style=\"text-align:center\">Reconhecimento de Padrões</h1>\n",
    "<h3 style=\"text-align:center\">João Victor Duarte Viana</h3>\n",
    "\n",
    "<p><b>Resumo</b>: Em <i>Machine Learning</i>, existem categorias em relação ao tipo do problema a ser resolvido. Neste trabalho será utilizado apenas dois, o de Regressão e de Classificação. A primeira parte deste trabalho será para analisar os modelos de Classificação e determinar qual deles tem o melhor desempenho em relação a acurácia para a base de dados (nome da bd), a saber, os modelos serão:</p>\n",
    "    <ul>\n",
    "        <li><b>Naivy Bayes</b></li>\n",
    "        <li><b>Regressão Logística</b></li>\n",
    "        <li><b>SVM Linear</b></li>\n",
    "        <li><b>Kernel SVM</b></li>\n",
    "    </ul>\n",
    "\n",
    "<p>A segunda parte do projeto é analisar qual modelo de Regressão mais se aproxima gráficamente da função original. Os modelos que serão utilizados serão:</p>\n",
    "    <ul>\n",
    "        <li><b>Regressão Linear</b></li>\n",
    "        <li><b>Regressão Linear com Kernel RBF</b></li>\n",
    "    </ul>"
   ]
  },
  {
   "cell_type": "markdown",
   "metadata": {},
   "source": [
    "<h5>Bibliotecas utilizadas neste projeto</h5>\n",
    "<ul>\n",
    "    <li>Numpy</li>\n",
    "    <li>Pandas</li>\n",
    "    <li>Matplotlib</li>\n",
    "    <li>CVXOPT</li>\n",
    "    <li>Math</li>\n",
    "    <li>Time</li>\n",
    "</ul>"
   ]
  },
  {
   "cell_type": "code",
   "execution_count": 2,
   "metadata": {},
   "outputs": [],
   "source": [
    "from cvxopt import matrix\n",
    "from cvxopt import spmatrix\n",
    "from cvxopt.solvers import qp \n",
    "from cvxopt import solvers\n",
    "\n",
    "import numpy as np\n",
    "import pandas as pd\n",
    "import matplotlib.pyplot as plt\n",
    "import math\n",
    "import time"
   ]
  },
  {
   "cell_type": "code",
   "execution_count": 3,
   "metadata": {},
   "outputs": [],
   "source": [
    "solvers.options[\"show_progress\"] = False"
   ]
  },
  {
   "cell_type": "markdown",
   "metadata": {},
   "source": [
    "<h3 style=\"text-align:center\">Modelos de Classificação</h3>"
   ]
  },
  {
   "cell_type": "markdown",
   "metadata": {},
   "source": [
    "<h5>Métodos auxiliares</h5>"
   ]
  },
  {
   "cell_type": "markdown",
   "metadata": {},
   "source": [
    "Descrição de cada método auxiliar\n",
    "<ul>\n",
    "    <li>class_encode(specie, column, values_y): Método para transforma as labels da base de dados iris\n",
    "        <ul>\n",
    "            <li><i>specie</i>: label que será transformada;</li>\n",
    "            <li><i>column</i>: Nome da espécie da iris que sera classificada</li>\n",
    "            <li><i>values_y</i>: Lista dos valores que a label receberá, se a <i>specie</i> for igual a <i>column </i> retornará o segundo valor de <i>values_y</i>, caso contrário, retornará o primeiro.</li>\n",
    "        </ul>\n",
    "    </li><br>\n",
    "    <li>normalize(data): Método para normalizar a base de dados\n",
    "        <ul><li><i>data</i>: Base de dados</li></ul>\n",
    "    </li><br>\n",
    "    <li>train_test(data, class_d): Método para separar a base de dado em treino e teste. Foi utilizado a divisão 80/20, ou seja, 80% da base de dados é para treino, e 20% para teste.\n",
    "        <ul>\n",
    "            <li><i>data</i>: Base de dados;</li>\n",
    "            <li><i>class_d</i>: Vetor de labels.</li>\n",
    "        </ul>\n",
    "    </li><br>\n",
    "    <li>metrics(modelo, num_realizacoes, db, class_db, specie, list_y): Método para medir a média da acurácia de algum modelo de classificação binária. \n",
    "        <ul>\n",
    "            <li><i>modelo</i>: Modelo de classificação binária que será utilizado;</li>\n",
    "            <li><i>num_realizacoes</i>: Quantidade de vezes que vai ser computado a acurácia do modelo;</li>\n",
    "            <li><i>db</i>: Base de dados;</li>\n",
    "            <li><i>class_db</i>: Vetor de labels;</li>\n",
    "            <li><i>specie</i>: Nome da espécie que será classificada;</li>\n",
    "            <li><i>list_y</i>: Lista de valores de y que será utilizado para transformar as labels.</li>\n",
    "        </ul>\n",
    "    </li><br>\n",
    "    <li>test_model(modelo, db, class_db, specie, list_y): Método para testar um modelo predizendo 3 padrões da base de dados, a saber são: o 1º, o 51º e o 100º.\n",
    "        <ul>\n",
    "            <li><i>modelo</i>: Modelo de classificação binária que será utilizado;</li>\n",
    "            <li><i>db</i>: Base de dados;</li>\n",
    "            <li><i>class_db</i>: Vetor de labels;</li>\n",
    "            <li><i>specie</i>: Nome da espécie que será classificada;</li>\n",
    "            <li><i>list_y</i>: Lista de valores de y que será utilizado para transformar as labels.</li>\n",
    "        </ul>\n",
    "    </li>\n",
    "</ul>"
   ]
  },
  {
   "cell_type": "code",
   "execution_count": 4,
   "metadata": {},
   "outputs": [],
   "source": [
    "def class_encode(specie,column,values_y):\n",
    "    if column in specie:\n",
    "        return values_y[1]\n",
    "    else:\n",
    "        return values_y[0]"
   ]
  },
  {
   "cell_type": "code",
   "execution_count": 5,
   "metadata": {},
   "outputs": [],
   "source": [
    "def normalize(data):\n",
    "    for col in data.columns:\n",
    "        min = np.min(data[col])\n",
    "        max = np.max(data[col])\n",
    "        data[col] = [(data.at[i,col] - min)/(max-min)\n",
    "                        for i in range(len(data))]\n",
    "    return data\n"
   ]
  },
  {
   "cell_type": "code",
   "execution_count": 6,
   "metadata": {},
   "outputs": [],
   "source": [
    "def train_test(data, class_d):\n",
    "    train_x, test_x = _split_data_(data)\n",
    "    train_d = class_d.iloc[train_x.index]\n",
    "    test_d = class_d.drop(train_d.index)\n",
    "    return train_x,test_x,train_d,test_d\n",
    "\n",
    "def _split_data_(data):\n",
    "    index_random = _random_index_(data,0.8)\n",
    "    return data.loc[index_random],data.drop(index_random)\n",
    "\n",
    "def _random_index_(data,count):\n",
    "    random_count = int(len(data) * count)\n",
    "    return np.random.choice(data.index,random_count,replace = False)\n"
   ]
  },
  {
   "cell_type": "code",
   "execution_count": 7,
   "metadata": {},
   "outputs": [],
   "source": [
    "def metrics(modelo, num_realizacoes, db, class_db, specie, list_y):\n",
    "    inicio_tempo = time.time()\n",
    "    species = class_db.apply(class_encode,column=specie,values_y=list_y)\n",
    "    lista_acuracia = []\n",
    "    for realizacao in range(num_realizacoes):\n",
    "        train_x, test_x, train_y, test_y = train_test(db, species)\n",
    "        modelo.train(train_x,train_y)\n",
    "        list_y = [modelo.predict(list(linha)) for indice, linha in test_x.iterrows()]\n",
    "        lista_acuracia += [np.mean(list_y == test_y)]\n",
    "    print(\"Toda o processo durou: {:.3f}s\".format(time.time() - inicio_tempo))\n",
    "    return np.mean(lista_acuracia)"
   ]
  },
  {
   "cell_type": "code",
   "execution_count": 8,
   "metadata": {},
   "outputs": [],
   "source": [
    "def test_model(modelo, db, class_db, specie, list_y):\n",
    "    species = class_db.apply(class_encode,column=specie,values_y=list_y)\n",
    "    train_x, test_x, train_y, test_y = train_test(db, species)\n",
    "    modelo.train(train_x,train_y)\n",
    "    teste_1 = modelo.predict(db.loc[0])\n",
    "    teste_2 = modelo.predict(db.loc[51])\n",
    "    teste_3 = modelo.predict(db.loc[100])\n",
    "    return \"valor da setosa = {}, valor da versicolor = {}, valor da virginica = {}\".format(teste_1,teste_2,teste_3)"
   ]
  },
  {
   "cell_type": "markdown",
   "metadata": {},
   "source": [
    "<h5>Obtendo os dados</h5>"
   ]
  },
  {
   "cell_type": "code",
   "execution_count": 9,
   "metadata": {},
   "outputs": [
    {
     "data": {
      "text/html": [
       "<div>\n",
       "<style scoped>\n",
       "    .dataframe tbody tr th:only-of-type {\n",
       "        vertical-align: middle;\n",
       "    }\n",
       "\n",
       "    .dataframe tbody tr th {\n",
       "        vertical-align: top;\n",
       "    }\n",
       "\n",
       "    .dataframe thead th {\n",
       "        text-align: right;\n",
       "    }\n",
       "</style>\n",
       "<table border=\"1\" class=\"dataframe\">\n",
       "  <thead>\n",
       "    <tr style=\"text-align: right;\">\n",
       "      <th></th>\n",
       "      <th>sepal_length</th>\n",
       "      <th>sepal_width</th>\n",
       "      <th>petal_length</th>\n",
       "      <th>petal_width</th>\n",
       "      <th>species</th>\n",
       "    </tr>\n",
       "  </thead>\n",
       "  <tbody>\n",
       "    <tr>\n",
       "      <th>0</th>\n",
       "      <td>5.1</td>\n",
       "      <td>3.5</td>\n",
       "      <td>1.4</td>\n",
       "      <td>0.2</td>\n",
       "      <td>Iris-setosa</td>\n",
       "    </tr>\n",
       "    <tr>\n",
       "      <th>1</th>\n",
       "      <td>4.9</td>\n",
       "      <td>3.0</td>\n",
       "      <td>1.4</td>\n",
       "      <td>0.2</td>\n",
       "      <td>Iris-setosa</td>\n",
       "    </tr>\n",
       "    <tr>\n",
       "      <th>2</th>\n",
       "      <td>4.7</td>\n",
       "      <td>3.2</td>\n",
       "      <td>1.3</td>\n",
       "      <td>0.2</td>\n",
       "      <td>Iris-setosa</td>\n",
       "    </tr>\n",
       "    <tr>\n",
       "      <th>3</th>\n",
       "      <td>4.6</td>\n",
       "      <td>3.1</td>\n",
       "      <td>1.5</td>\n",
       "      <td>0.2</td>\n",
       "      <td>Iris-setosa</td>\n",
       "    </tr>\n",
       "    <tr>\n",
       "      <th>4</th>\n",
       "      <td>5.0</td>\n",
       "      <td>3.6</td>\n",
       "      <td>1.4</td>\n",
       "      <td>0.2</td>\n",
       "      <td>Iris-setosa</td>\n",
       "    </tr>\n",
       "  </tbody>\n",
       "</table>\n",
       "</div>"
      ],
      "text/plain": [
       "   sepal_length  sepal_width  petal_length  petal_width      species\n",
       "0           5.1          3.5           1.4          0.2  Iris-setosa\n",
       "1           4.9          3.0           1.4          0.2  Iris-setosa\n",
       "2           4.7          3.2           1.3          0.2  Iris-setosa\n",
       "3           4.6          3.1           1.5          0.2  Iris-setosa\n",
       "4           5.0          3.6           1.4          0.2  Iris-setosa"
      ]
     },
     "execution_count": 9,
     "metadata": {},
     "output_type": "execute_result"
    }
   ],
   "source": [
    "iris_db = pd.read_csv(\"iris.csv\")\n",
    "iris_db.head()"
   ]
  },
  {
   "cell_type": "markdown",
   "metadata": {},
   "source": [
    "<h5>Pré-processamento dos dados</h5>"
   ]
  },
  {
   "cell_type": "code",
   "execution_count": 10,
   "metadata": {},
   "outputs": [],
   "source": [
    "species = iris_db.species\n",
    "iris_db = iris_db.drop(['species'],axis=1)"
   ]
  },
  {
   "cell_type": "code",
   "execution_count": 11,
   "metadata": {},
   "outputs": [
    {
     "data": {
      "text/html": [
       "<div>\n",
       "<style scoped>\n",
       "    .dataframe tbody tr th:only-of-type {\n",
       "        vertical-align: middle;\n",
       "    }\n",
       "\n",
       "    .dataframe tbody tr th {\n",
       "        vertical-align: top;\n",
       "    }\n",
       "\n",
       "    .dataframe thead th {\n",
       "        text-align: right;\n",
       "    }\n",
       "</style>\n",
       "<table border=\"1\" class=\"dataframe\">\n",
       "  <thead>\n",
       "    <tr style=\"text-align: right;\">\n",
       "      <th></th>\n",
       "      <th>sepal_length</th>\n",
       "      <th>sepal_width</th>\n",
       "      <th>petal_length</th>\n",
       "      <th>petal_width</th>\n",
       "    </tr>\n",
       "  </thead>\n",
       "  <tbody>\n",
       "    <tr>\n",
       "      <th>0</th>\n",
       "      <td>5.1</td>\n",
       "      <td>3.5</td>\n",
       "      <td>1.4</td>\n",
       "      <td>0.2</td>\n",
       "    </tr>\n",
       "    <tr>\n",
       "      <th>1</th>\n",
       "      <td>4.9</td>\n",
       "      <td>3.0</td>\n",
       "      <td>1.4</td>\n",
       "      <td>0.2</td>\n",
       "    </tr>\n",
       "    <tr>\n",
       "      <th>2</th>\n",
       "      <td>4.7</td>\n",
       "      <td>3.2</td>\n",
       "      <td>1.3</td>\n",
       "      <td>0.2</td>\n",
       "    </tr>\n",
       "    <tr>\n",
       "      <th>3</th>\n",
       "      <td>4.6</td>\n",
       "      <td>3.1</td>\n",
       "      <td>1.5</td>\n",
       "      <td>0.2</td>\n",
       "    </tr>\n",
       "    <tr>\n",
       "      <th>4</th>\n",
       "      <td>5.0</td>\n",
       "      <td>3.6</td>\n",
       "      <td>1.4</td>\n",
       "      <td>0.2</td>\n",
       "    </tr>\n",
       "  </tbody>\n",
       "</table>\n",
       "</div>"
      ],
      "text/plain": [
       "   sepal_length  sepal_width  petal_length  petal_width\n",
       "0           5.1          3.5           1.4          0.2\n",
       "1           4.9          3.0           1.4          0.2\n",
       "2           4.7          3.2           1.3          0.2\n",
       "3           4.6          3.1           1.5          0.2\n",
       "4           5.0          3.6           1.4          0.2"
      ]
     },
     "execution_count": 11,
     "metadata": {},
     "output_type": "execute_result"
    }
   ],
   "source": [
    "iris_db.head()"
   ]
  },
  {
   "cell_type": "code",
   "execution_count": 11,
   "metadata": {},
   "outputs": [
    {
     "data": {
      "text/plain": [
       "0    Iris-setosa\n",
       "1    Iris-setosa\n",
       "2    Iris-setosa\n",
       "3    Iris-setosa\n",
       "4    Iris-setosa\n",
       "Name: species, dtype: object"
      ]
     },
     "execution_count": 11,
     "metadata": {},
     "output_type": "execute_result"
    }
   ],
   "source": [
    "species.head()"
   ]
  },
  {
   "cell_type": "code",
   "execution_count": 12,
   "metadata": {},
   "outputs": [
    {
     "data": {
      "text/html": [
       "<div>\n",
       "<style scoped>\n",
       "    .dataframe tbody tr th:only-of-type {\n",
       "        vertical-align: middle;\n",
       "    }\n",
       "\n",
       "    .dataframe tbody tr th {\n",
       "        vertical-align: top;\n",
       "    }\n",
       "\n",
       "    .dataframe thead th {\n",
       "        text-align: right;\n",
       "    }\n",
       "</style>\n",
       "<table border=\"1\" class=\"dataframe\">\n",
       "  <thead>\n",
       "    <tr style=\"text-align: right;\">\n",
       "      <th></th>\n",
       "      <th>sepal_length</th>\n",
       "      <th>sepal_width</th>\n",
       "      <th>petal_length</th>\n",
       "      <th>petal_width</th>\n",
       "    </tr>\n",
       "  </thead>\n",
       "  <tbody>\n",
       "    <tr>\n",
       "      <th>0</th>\n",
       "      <td>0.222222</td>\n",
       "      <td>0.625000</td>\n",
       "      <td>0.067797</td>\n",
       "      <td>0.041667</td>\n",
       "    </tr>\n",
       "    <tr>\n",
       "      <th>1</th>\n",
       "      <td>0.166667</td>\n",
       "      <td>0.416667</td>\n",
       "      <td>0.067797</td>\n",
       "      <td>0.041667</td>\n",
       "    </tr>\n",
       "    <tr>\n",
       "      <th>2</th>\n",
       "      <td>0.111111</td>\n",
       "      <td>0.500000</td>\n",
       "      <td>0.050847</td>\n",
       "      <td>0.041667</td>\n",
       "    </tr>\n",
       "    <tr>\n",
       "      <th>3</th>\n",
       "      <td>0.083333</td>\n",
       "      <td>0.458333</td>\n",
       "      <td>0.084746</td>\n",
       "      <td>0.041667</td>\n",
       "    </tr>\n",
       "    <tr>\n",
       "      <th>4</th>\n",
       "      <td>0.194444</td>\n",
       "      <td>0.666667</td>\n",
       "      <td>0.067797</td>\n",
       "      <td>0.041667</td>\n",
       "    </tr>\n",
       "    <tr>\n",
       "      <th>...</th>\n",
       "      <td>...</td>\n",
       "      <td>...</td>\n",
       "      <td>...</td>\n",
       "      <td>...</td>\n",
       "    </tr>\n",
       "    <tr>\n",
       "      <th>145</th>\n",
       "      <td>0.666667</td>\n",
       "      <td>0.416667</td>\n",
       "      <td>0.711864</td>\n",
       "      <td>0.916667</td>\n",
       "    </tr>\n",
       "    <tr>\n",
       "      <th>146</th>\n",
       "      <td>0.555556</td>\n",
       "      <td>0.208333</td>\n",
       "      <td>0.677966</td>\n",
       "      <td>0.750000</td>\n",
       "    </tr>\n",
       "    <tr>\n",
       "      <th>147</th>\n",
       "      <td>0.611111</td>\n",
       "      <td>0.416667</td>\n",
       "      <td>0.711864</td>\n",
       "      <td>0.791667</td>\n",
       "    </tr>\n",
       "    <tr>\n",
       "      <th>148</th>\n",
       "      <td>0.527778</td>\n",
       "      <td>0.583333</td>\n",
       "      <td>0.745763</td>\n",
       "      <td>0.916667</td>\n",
       "    </tr>\n",
       "    <tr>\n",
       "      <th>149</th>\n",
       "      <td>0.444444</td>\n",
       "      <td>0.416667</td>\n",
       "      <td>0.694915</td>\n",
       "      <td>0.708333</td>\n",
       "    </tr>\n",
       "  </tbody>\n",
       "</table>\n",
       "<p>150 rows × 4 columns</p>\n",
       "</div>"
      ],
      "text/plain": [
       "     sepal_length  sepal_width  petal_length  petal_width\n",
       "0        0.222222     0.625000      0.067797     0.041667\n",
       "1        0.166667     0.416667      0.067797     0.041667\n",
       "2        0.111111     0.500000      0.050847     0.041667\n",
       "3        0.083333     0.458333      0.084746     0.041667\n",
       "4        0.194444     0.666667      0.067797     0.041667\n",
       "..            ...          ...           ...          ...\n",
       "145      0.666667     0.416667      0.711864     0.916667\n",
       "146      0.555556     0.208333      0.677966     0.750000\n",
       "147      0.611111     0.416667      0.711864     0.791667\n",
       "148      0.527778     0.583333      0.745763     0.916667\n",
       "149      0.444444     0.416667      0.694915     0.708333\n",
       "\n",
       "[150 rows x 4 columns]"
      ]
     },
     "execution_count": 12,
     "metadata": {},
     "output_type": "execute_result"
    }
   ],
   "source": [
    "iris_db = normalize(iris_db)\n",
    "iris_db"
   ]
  },
  {
   "cell_type": "markdown",
   "metadata": {},
   "source": [
    "<h5>Naive Bayes Gaussiano</h5>\n",
    "<p>O primeiro modelo de Classificação que será analisado é o Naive Bayes Gaussiano. Em Machine Learning, classificadores naive bayes são uma família de classificadores probabilisticos baseados no teorama Bayesiano, assumindo que há uma forte independencia entre as <i>features</i> da base de dados. Este modelo utilizado a seguinte equação para prever a probabilidade que um determinado padrão tem para todos os possiveis y's, retornando aquele que possui a maior probabilidade:</p>\n",
    "$${\\displaystyle {\\hat {y}}={\\underset {k\\in \\{1,\\dots ,K\\}}{\\operatorname {argmax} }}\\ p(y_{k})\\displaystyle \\prod _{i=1}^{n}p(x_{i}\\mid y_{k}).}$$\n",
    "<p>onde, $y_{k}$ é a label de $x_{k}$. No processo de treinamento para obter o $p(x\\mid y)$, quando os dados são contínuos, é necessário utilizar uma função gaussiana de acordo com a seguinte equação:</p>\n",
    "$${\\displaystyle p(x=v\\mid y_{k})={\\frac {1}{\\sqrt {2\\pi \\sigma _{k}^{2}}}}\\,e^{-{\\frac {(v-\\mu _{k})^{2}}{2\\sigma _{k}^{2}}}}}$$\n",
    "<p>onde v é o padrão que possui valores contínuos, $\\sigma _{k}^{2}$ é a variancia da classe $y_{k}$ e $\\mu _{k}$ é a sua média.</p>\n",
    "<p>A seguir está o algoritmo da implementação:</p>\n",
    "\n",
    "NaiveBayesGaussian:\n",
    "<ul>\n",
    "    <li>train(db, class_db):</li>\n",
    "    <ul>\n",
    "        <li>Computa a probabilidade de cada y de acordo com a base de dados</li>\n",
    "        <li>Computa o desvio padrão de cada y</li>\n",
    "        <li>Computa a média de cada y</li>\n",
    "    </ul>\n",
    "    <li>predict(x):</li>\n",
    "    <ul>\n",
    "        <li>Aplica as equações para encontrar a probabilidade de cada y; </li>\n",
    "        <li>Retorna o y que possui a maior probabilidade</li>\n",
    "    </ul>\n",
    "</ul>"
   ]
  },
  {
   "cell_type": "code",
   "execution_count": 13,
   "metadata": {},
   "outputs": [],
   "source": [
    "class NaivyBayesGaussian:\n",
    "    __slots__ = ['probabilidade_y','lista_desvio_padrao','lista_media']\n",
    "    \n",
    "    def __init__(self):\n",
    "        self.probabilidade_y = [0,0]\n",
    "        self.lista_desvio_padrao = []\n",
    "        self.lista_media = []        \n",
    "            \n",
    "    def train(self, db, class_db):\n",
    "        self.lista_desvio_padrao = np.zeros((2, db.shape[1]))\n",
    "        self.lista_media = np.zeros((2, db.shape[1]))\n",
    "        \n",
    "        for y in range(2):\n",
    "            self.probabilidade_y[y] = len(class_db.loc[class_db == y])\n",
    "            index_db = class_db.loc[class_db == y].index\n",
    "            for num_column in range(len(db.columns)):\n",
    "                column = db.columns[num_column]\n",
    "                self.lista_desvio_padrao[y][num_column] = np.std(db[column].loc[index_db])\n",
    "                self.lista_media[y][num_column] = np.mean(db[column].loc[index_db])        \n",
    "       \n",
    "    def probabildade_x_y(self,x, y):\n",
    "        resultado = 1\n",
    "        for num_column in range(len(x)):\n",
    "            std = self.lista_desvio_padrao[y][num_column]\n",
    "            mean = self.lista_media[y][num_column]\n",
    "            resultado *= ((1/(math.sqrt(2*math.pi)*std))*(math.exp((-(x[num_column]-mean)**2)/(2*(std**2)))))\n",
    "        return resultado\n",
    "    \n",
    "    def arg_max(self,lista_probabilidades):\n",
    "        for i in range(len(lista_probabilidades)):\n",
    "            if lista_probabilidades[i] == np.max(lista_probabilidades):\n",
    "                return i\n",
    "    \n",
    "    def predict(self,x):\n",
    "        lista_probabilidades = []\n",
    "        for y in range(len(self.probabilidade_y)):\n",
    "            lista_probabilidades += [self.probabilidade_y[y] * self.probabildade_x_y(x,y)]\n",
    "        return self.arg_max(lista_probabilidades)"
   ]
  },
  {
   "cell_type": "code",
   "execution_count": 14,
   "metadata": {},
   "outputs": [],
   "source": [
    "naivy = NaivyBayesGaussian()"
   ]
  },
  {
   "cell_type": "code",
   "execution_count": 15,
   "metadata": {
    "scrolled": true
   },
   "outputs": [
    {
     "data": {
      "text/plain": [
       "'valor da setosa = 1, valor da versicolor = 0, valor da virginica = 0'"
      ]
     },
     "execution_count": 15,
     "metadata": {},
     "output_type": "execute_result"
    }
   ],
   "source": [
    "test_model(naivy, iris_db, species, \"setosa\", [0,1])"
   ]
  },
  {
   "cell_type": "code",
   "execution_count": 16,
   "metadata": {},
   "outputs": [
    {
     "name": "stdout",
     "output_type": "stream",
     "text": [
      "Toda o processo durou: 0.486s\n"
     ]
    },
    {
     "data": {
      "text/plain": [
       "1.0"
      ]
     },
     "execution_count": 16,
     "metadata": {},
     "output_type": "execute_result"
    }
   ],
   "source": [
    "metrics(naivy, 20, iris_db, species, \"setosa\", [0,1])"
   ]
  },
  {
   "cell_type": "code",
   "execution_count": 17,
   "metadata": {},
   "outputs": [
    {
     "name": "stdout",
     "output_type": "stream",
     "text": [
      "Toda o processo durou: 0.481s\n"
     ]
    },
    {
     "data": {
      "text/plain": [
       "0.9049999999999999"
      ]
     },
     "execution_count": 17,
     "metadata": {},
     "output_type": "execute_result"
    }
   ],
   "source": [
    "metrics(naivy, 20, iris_db, species, \"versicolor\", [0,1])"
   ]
  },
  {
   "cell_type": "code",
   "execution_count": 23,
   "metadata": {},
   "outputs": [
    {
     "name": "stdout",
     "output_type": "stream",
     "text": [
      "Toda o processo durou: 0.494s\n"
     ]
    },
    {
     "data": {
      "text/plain": [
       "0.9283333333333333"
      ]
     },
     "execution_count": 23,
     "metadata": {},
     "output_type": "execute_result"
    }
   ],
   "source": [
    "metrics(naivy, 20, iris_db, species, \"virginica\", [0,1])"
   ]
  },
  {
   "cell_type": "markdown",
   "metadata": {},
   "source": [
    "<h5>Regressão Logistica</h5>"
   ]
  },
  {
   "cell_type": "markdown",
   "metadata": {},
   "source": [
    "<i>Ver nota de aula sobre Regressão Logística</i>"
   ]
  },
  {
   "cell_type": "code",
   "execution_count": 24,
   "metadata": {},
   "outputs": [],
   "source": [
    "class RegressaoLogistica:\n",
    "    _slots__ = ['w']\n",
    "    \n",
    "    def __init__(self):\n",
    "        self.w = []\n",
    "    \n",
    "    def train(self, db, class_db, epocas=100, taxa_de_aprendizagem=0.001):\n",
    "        self.w = np.zeros((1, db.shape[1] + 1))\n",
    "        \n",
    "        for epoca in range(epocas):\n",
    "            gradiente = np.zeros((1, db.shape[1] + 1))\n",
    "            for indice, linha in db.iterrows():\n",
    "                x = np.array(list(linha) + [-1])\n",
    "                y = class_db.loc[indice]\n",
    "                gradiente += ((y*x)/(1+np.exp(y * np.dot(x, self.w.T))))\n",
    "            valor_w_antigo = self.w\n",
    "            self.w += taxa_de_aprendizagem*gradiente \n",
    "    \n",
    "    def arg_max(self, probabilidade_menos_1, probabilidade_1):\n",
    "        return -1 if probabilidade_menos_1 > probabilidade_1 else 1\n",
    "            \n",
    "    def predict(self, linha):\n",
    "        x = np.array(list(linha) + [-1])\n",
    "        \n",
    "        probabilidade_menos_1 = (1/(1+np.exp(np.dot(x, self.w.T))))\n",
    "        probabilidade_1 = (1/(1+np.exp(-np.dot(x, self.w.T))))\n",
    "        return self.arg_max(probabilidade_menos_1,probabilidade_1)\n",
    "        "
   ]
  },
  {
   "cell_type": "code",
   "execution_count": 25,
   "metadata": {},
   "outputs": [],
   "source": [
    "rg = RegressaoLogistica()"
   ]
  },
  {
   "cell_type": "code",
   "execution_count": 26,
   "metadata": {},
   "outputs": [
    {
     "data": {
      "text/plain": [
       "'valor da setosa = -1, valor da versicolor = -1, valor da virginica = -1'"
      ]
     },
     "execution_count": 26,
     "metadata": {},
     "output_type": "execute_result"
    }
   ],
   "source": [
    "test_model(rg,iris_db,species, \"setosa\", [-1,1])"
   ]
  },
  {
   "cell_type": "code",
   "execution_count": 27,
   "metadata": {},
   "outputs": [
    {
     "name": "stdout",
     "output_type": "stream",
     "text": [
      "Toda o processo durou: 61.825s\n"
     ]
    },
    {
     "data": {
      "text/plain": [
       "0.9183333333333333"
      ]
     },
     "execution_count": 27,
     "metadata": {},
     "output_type": "execute_result"
    }
   ],
   "source": [
    "metrics(rg, 20, iris_db, species, \"setosa\", [-1,1])"
   ]
  },
  {
   "cell_type": "code",
   "execution_count": 28,
   "metadata": {},
   "outputs": [
    {
     "name": "stdout",
     "output_type": "stream",
     "text": [
      "Toda o processo durou: 60.048s\n"
     ]
    },
    {
     "data": {
      "text/plain": [
       "0.6483333333333332"
      ]
     },
     "execution_count": 28,
     "metadata": {},
     "output_type": "execute_result"
    }
   ],
   "source": [
    "metrics(rg, 20, iris_db, species, \"versicolor\", [-1,1])"
   ]
  },
  {
   "cell_type": "code",
   "execution_count": 32,
   "metadata": {},
   "outputs": [
    {
     "name": "stdout",
     "output_type": "stream",
     "text": [
      "Toda o processo durou: 59.924s\n"
     ]
    },
    {
     "data": {
      "text/plain": [
       "0.8083333333333333"
      ]
     },
     "execution_count": 32,
     "metadata": {},
     "output_type": "execute_result"
    }
   ],
   "source": [
    "metrics(rg, 20, iris_db, species, \"virginica\", [-1,1])"
   ]
  },
  {
   "cell_type": "markdown",
   "metadata": {},
   "source": [
    "<h5>SVM Linear</h5>\n",
    "<p>Diferentemente do Perceptron, que encontra um hiperplano separador 1 qualquer (caso exista), SVM retorna o hiperplano separador de margem máxima. SVMs são normalmente aplicados em tarefas de classificação binária. A função de decisão obtida com SVMs é da forma:</p><br>\n",
    "$$h(x) = sign(w^t x + b)$$<br>\n",
    "<p>em que w e b representam os parâmetros do SVM. Aqui adotaremos os valores {+1, −1} para representar os rótulos de cada classe.</p>\n",
    "<h5>Linearmente separável</h5>\n",
    "<p>Um conjunto de dados $D = (x_1 , y_1 ), . . . , (x_n , y_n)$, com $x_i ∈\n",
    "R^d e y_i ∈ (+1, −1)$, é dito linearmente separável se existe um hiperplano $(x | w^t x + b = 0)$\n",
    "parametrizado por (w, b) tal que\n",
    "$$y_i = sign(w^t x_i + b) \\hspace{1cm}   i = 1, . . . , n,$$\n",
    "ou, de modo equivalente,\n",
    "$$y_i (w^t x_i + b) ≥ 0 \\hspace{1cm}   i = 1, . . . , n.$$\n",
    "<p>O treinamento do SVM consiste em encontrar o hiperplano separador de margem máxima. Matematicamente isso corresponde ao seguinte problema de otimização:</p>\n",
    "$${\\underset {w,b}{\\operatorname {min}} } \\hspace{0.2cm} w^t x$$\n",
    "$$s.t \\hspace{0.3cm} y_i (w^t x_i + b) ≥ 1 \\hspace{1cm} i = 1, . . . , n.$$<br>\n",
    "<h5>Soft-SVM</h5>\n",
    "<p>O que acontece com o problema de otimização do SVM quando os dados não são linearmente separáveis? Não existe solução, o problema é inviável. Para lidar com esses casos, uma solução é introduzir variáveis de folga (não negativas) que permitam as restrições serem violadas (ou seja, $y_i (w^t x_i + b) < 1$. Isso corresponde a permitir que alguns pontos fiquem mais próximos do hiperplano separador, ou até do lado errado do hiperplano.\n",
    "Isso é compensado através de uma penalidade na função custo, forçando que essas variáveis de folga tenham valores baixos. Com isso, temos a formulação soft-margin do SVM:</p>\n",
    "$${\\underset {w,b,ξ_i} {\\operatorname {min} \\hspace{0.2cm}}} w^t x  + C \\sum_{i=1}^n ξ_i$$\n",
    "$$s.t \\hspace{0.3cm} y_i (w^t x_i + b) ≥ 1 − ξ_i \\hspace{1cm} i = 1, . . . , n. $$\n",
    "$$ξ_i ≥ 0 \\hspace{1cm} i = 1, . . . , n$$\n",
    "\n",
    "<p>A seguir está o algoritmo do Soft-SVM:</p> <br>\n",
    "<p><i>OBS</i>.: O CVXOPT segue o seguinte formato para modelar problemas quadráticos:</p><br>\n",
    "$${\\operatorname {min}} \\hspace{0.2cm} \\frac{1}{2}x^t P x + q^t x$$\n",
    "$$ s.t \\hspace{0.3cm} Gx \\le h$$\n",
    "<p>Exemplo: Tomando dois padrões, $[[x1,x2],[x3,x4]$, a matriz P receberá o valor de </p><br>\n",
    "$$[[1,0,0,0,0], [0,1,0,0,0], [0,0,0,0,0]],$$<br>\n",
    "<p>sendo sua dimensão</p> <br>\n",
    "$$dim = nº atributos + nº padrões + 1(b)$$<br> \n",
    "<p>e onde a ultima linha da matriz é um vetor de zeros, pois não será utilizado o valor de b da equação citada anteriormente. A matriz q receberá o valor de </p><br>\n",
    "$$[0,0,0,1,1],$$<br> \n",
    "<p>pois é necessário pegar apenas as variáveis de folga. A matriz g receberá o valor de</p><br>\n",
    "$$[[-x1_1*y_1, -x1_2*y_1,-x1_3*y_1, -1, 0],[-x2_1*y_2, -x2_2*y_2,-x2_3*y_2, 0, -1],[0, 0, 0, -1, 0],[0, 0, 0, 0, -1],].$$<br>\n",
    "<p>E a matriz h receberá</p><br> \n",
    "$$[-1,-1,0,0]$$<br> \n",
    "<p>para satisfazer as restrições do modelo.</p><br>\n",
    "SVMLinear:\n",
    "<ul>\n",
    "    <li>train(db, class_db):</li>\n",
    "    <ul>\n",
    "        <li>Computa a matriz P</li>\n",
    "        <li>Computa a matriz Q</li>\n",
    "        <li>Computa a matriz G</li>\n",
    "        <li>Computa a matriz H</li>\n",
    "        <li>Passa todas as matrizes como paramentro do solver <i>qp</i> e retornar o valor do w</li>\n",
    "    </ul>\n",
    "    <li>predict(x):</li>\n",
    "    <ul>\n",
    "        <li>Aplica a equação $w^T x$ para encontrar o valor de y; </li>\n",
    "        <li>Retorna 1 caso y  seja maior que 0, caso contrário retorna -1</li>\n",
    "    </ul>\n",
    "</ul>"
   ]
  },
  {
   "cell_type": "code",
   "execution_count": 33,
   "metadata": {},
   "outputs": [],
   "source": [
    "class SVMLinear:\n",
    "    __slots__ = ['w','p','q','g','h']\n",
    "    \n",
    "    def __init__(self):\n",
    "        self.w = []\n",
    "        self.p = []\n",
    "        self.q = []\n",
    "        self.g = []\n",
    "        self.h = []\n",
    "        \n",
    "    def initParams(self, db, class_db):\n",
    "        self.w = []\n",
    "        \n",
    "        matriz_identidade = np.identity(db.shape[1])\n",
    "        DIMENSAO = db.shape[0] + db.shape[1] + 1 \n",
    "        matriz_p = np.zeros((DIMENSAO, DIMENSAO))\n",
    "        matriz_p[:matriz_identidade.shape[0], :matriz_identidade.shape[1]] = matriz_identidade + matriz_p[:matriz_identidade.shape[0], :matriz_identidade.shape[1]]\n",
    "        self.p = matrix(matriz_p, tc=\"d\")\n",
    "        \n",
    "        matriz_aux_q = np.ones((db.shape[0],1))\n",
    "        matriz_q = np.zeros((DIMENSAO,1))\n",
    "        matriz_q[db.shape[1] + 1:,:] = matriz_aux_q + matriz_q[db.shape[1] + 1:,:]\n",
    "        self.q = matrix(matriz_q)\n",
    "        \n",
    "        dados_com_classes = db.join(class_db)\n",
    "        lista_g = []\n",
    "        for indice,linha in dados_com_classes.iterrows():\n",
    "            lista_g += [self.getG(linha, class_db.loc[indice])]\n",
    "        \n",
    "        matriz_aux_g = np.array(lista_g)\n",
    "        matriz_identidade_g = np.identity(db.shape[0]) * (-1)\n",
    "        DIMENSAO_2 = 2*db.shape[0]\n",
    "        matriz_g = np.zeros((DIMENSAO_2, DIMENSAO))\n",
    "        matriz_g[:db.shape[0],:db.shape[1]+1] = matriz_aux_g + matriz_g[:db.shape[0],:db.shape[1]+1]\n",
    "        matriz_g[:db.shape[0],db.shape[1]+1:] = matriz_identidade_g + matriz_g[:db.shape[0],db.shape[1]+1:]\n",
    "        matriz_g[db.shape[0]:,db.shape[1]+1:] = matriz_identidade_g + matriz_g[db.shape[0]:,db.shape[1]+1:]\n",
    "                   \n",
    "        self.g = matrix(matriz_g, tc=\"d\")\n",
    "                                                                        \n",
    "        matriz_h = np.zeros((DIMENSAO_2,1))\n",
    "        matriz_h[:db.shape[0],:] = np.ones((db.shape[0],1)) * (-1)\n",
    "        self.h = matrix(matriz_h) \n",
    "        \n",
    "    def getG(self,linha, y):\n",
    "        x = np.array(list(linha[:-1]) + [1])\n",
    "        return (x * y).T * -1\n",
    "    \n",
    "    def train(self, db, class_db):\n",
    "        self.initParams(db, class_db)\n",
    "        s = qp(self.p,self.q,self.g, self.h)\n",
    "        self.w = s['x']\n",
    "\n",
    "    def predict(self, linha):\n",
    "        x = np.array(list(linha) + [1])\n",
    "        u = np.dot(x,self.w[:x.shape[0]])\n",
    "        return 1 if u > 0 else -1"
   ]
  },
  {
   "cell_type": "code",
   "execution_count": 34,
   "metadata": {
    "scrolled": true
   },
   "outputs": [],
   "source": [
    "svm = SVMLinear()"
   ]
  },
  {
   "cell_type": "code",
   "execution_count": 35,
   "metadata": {},
   "outputs": [
    {
     "data": {
      "text/plain": [
       "'valor da setosa = 1, valor da versicolor = -1, valor da virginica = -1'"
      ]
     },
     "execution_count": 35,
     "metadata": {},
     "output_type": "execute_result"
    }
   ],
   "source": [
    "test_model(svm, iris_db, species, \"setosa\", [-1,1])"
   ]
  },
  {
   "cell_type": "code",
   "execution_count": 36,
   "metadata": {},
   "outputs": [
    {
     "name": "stdout",
     "output_type": "stream",
     "text": [
      "Toda o processo durou: 1.781s\n"
     ]
    },
    {
     "data": {
      "text/plain": [
       "0.9533333333333331"
      ]
     },
     "execution_count": 36,
     "metadata": {},
     "output_type": "execute_result"
    }
   ],
   "source": [
    "metrics(svm, 20, iris_db, species, \"virginica\", [-1,1])"
   ]
  },
  {
   "cell_type": "code",
   "execution_count": 37,
   "metadata": {},
   "outputs": [
    {
     "name": "stdout",
     "output_type": "stream",
     "text": [
      "Toda o processo durou: 1.750s\n"
     ]
    },
    {
     "data": {
      "text/plain": [
       "1.0"
      ]
     },
     "execution_count": 37,
     "metadata": {},
     "output_type": "execute_result"
    }
   ],
   "source": [
    "metrics(svm, 20, iris_db, species, \"setosa\", [-1,1])"
   ]
  },
  {
   "cell_type": "code",
   "execution_count": 38,
   "metadata": {},
   "outputs": [
    {
     "name": "stdout",
     "output_type": "stream",
     "text": [
      "Toda o processo durou: 1.609s\n"
     ]
    },
    {
     "data": {
      "text/plain": [
       "0.6916666666666665"
      ]
     },
     "execution_count": 38,
     "metadata": {},
     "output_type": "execute_result"
    }
   ],
   "source": [
    "metrics(svm, 20, iris_db, species, \"versicolor\", [-1,1])"
   ]
  },
  {
   "cell_type": "markdown",
   "metadata": {},
   "source": [
    "<h5>Kernel SVM</h5>\n",
    "<p>O Kernel SVM utiliza a mesma primícia do SVM, no entanto, ao contrário do SVM Linear que pode ser facilmente obtido na sua forma primal, o Kernel SVM será obtido transformando o problema de forma primal para a forma dual. A equação a seguir demostra a forma dual do SVM:</p><br>\n",
    "$${\\operatorname {max}}\\hspace{0.2cm} \\sum_{i}\\alpha_i - \\frac{1}{2}\\sum_{jk}\\alpha_j\\alpha_k y_j y_k (x_j^t x_k).$$\n",
    "<p>Encontrando na equação o $(x_j^t x_k)$ é possível utilizar algum kernel para que o modelo possa resolver problemas não-lineares. Neste projeto foi utilizado apenas um método de kernel, a saber o RBF, e seu formato é descrito a seguir:</p> <br>\n",
    "$${\\displaystyle K(\\mathbf {x} ,\\mathbf {z} )=\\exp \\left(-{\\frac {\\|\\mathbf {x} -\\mathbf {z} \\|^{2}}{2\\sigma ^{2}}}\\right)}$$<br>\n",
    "<p>onde $\\sigma ^{2}$ é um parâmetro livre. "
   ]
  },
  {
   "cell_type": "code",
   "execution_count": 39,
   "metadata": {},
   "outputs": [],
   "source": [
    "class KernelSVM:\n",
    "    __slots__ = ['alfa','p','q','g','h','y', 'x', 'beta']\n",
    "    \n",
    "    def __init__(self):\n",
    "        self.alfa = []\n",
    "        self.p = []\n",
    "        self.q = []\n",
    "        self.g = []\n",
    "        self.h = []\n",
    "        self.x = []\n",
    "        self.y = []\n",
    "        self.beta = 0\n",
    "        \n",
    "    def initParams(self, db, class_db, beta):\n",
    "        self.beta = beta\n",
    "        self.alfa = []\n",
    "        x = np.concatenate((db, np.ones((db.shape[0],1)) ), axis=1)\n",
    "        new_db = pd.DataFrame(x)\n",
    "        self.x = new_db\n",
    "        self.y = class_db\n",
    "        \n",
    "        kernel = []\n",
    "        for indice_i, linha_i in self.x.iterrows():\n",
    "            linha_kernel = []\n",
    "            for indice_j, linha_j in self.x.iterrows():\n",
    "                y_1 = class_db.iloc[indice_i]\n",
    "                y_2 = class_db.iloc[indice_j]\n",
    "                linha_kernel += [self.kernel_rbf(linha_i, linha_j, beta) * y_1 * y_2 ]\n",
    "            kernel += [linha_kernel]\n",
    "        \n",
    "        \n",
    "        matriz_p = np.array(kernel)\n",
    "        self.p = matrix(matriz_p, tc=\"d\")\n",
    "        \n",
    "        matriz_q = np.ones((db.shape[0],1)) * (-1)\n",
    "        self.q = matrix(matriz_q)\n",
    "                   \n",
    "        self.g = matrix(np.identity(db.shape[0]) *(-1), tc=\"d\")\n",
    "                                                                        \n",
    "        matriz_h = np.zeros((db.shape[0],1))\n",
    "        self.h = matrix(matriz_h) \n",
    "    \n",
    "    def kernel_rbf(self, x, z, beta):\n",
    "        return np.exp(-(np.sqrt(np.sum((x-z)**2))/(2*(beta**2))))\n",
    "\n",
    "        \n",
    "    def train(self, db, class_db, beta=1):\n",
    "        self.initParams(db, class_db, beta)\n",
    "        s = qp(self.p,self.q, self.g, self.h)\n",
    "        self.alfa = s['x']\n",
    "\n",
    "    def predict(self, linha):\n",
    "        x = np.array(list(linha) + [1])\n",
    "        lista_kernel = []\n",
    "        for indice, linha in self.x.iterrows():\n",
    "            y = self.y.iloc[indice]\n",
    "            k = self.kernel_rbf(x, linha, self.beta)\n",
    "            lista_kernel += [k * y]\n",
    "            \n",
    "        kernel = np.array(lista_kernel)         \n",
    "        u = np.dot(kernel,self.alfa)\n",
    "        return 1 if u > 0 else -1"
   ]
  },
  {
   "cell_type": "code",
   "execution_count": 40,
   "metadata": {},
   "outputs": [],
   "source": [
    "ksvm = KernelSVM()"
   ]
  },
  {
   "cell_type": "code",
   "execution_count": 41,
   "metadata": {},
   "outputs": [
    {
     "data": {
      "text/plain": [
       "'valor da setosa = 1, valor da versicolor = -1, valor da virginica = -1'"
      ]
     },
     "execution_count": 41,
     "metadata": {},
     "output_type": "execute_result"
    }
   ],
   "source": [
    "test_model(ksvm, iris_db, species, \"setosa\", [-1,1])"
   ]
  },
  {
   "cell_type": "code",
   "execution_count": 42,
   "metadata": {},
   "outputs": [
    {
     "name": "stdout",
     "output_type": "stream",
     "text": [
      "Toda o processo durou: 566.447s\n"
     ]
    },
    {
     "data": {
      "text/plain": [
       "1.0"
      ]
     },
     "execution_count": 42,
     "metadata": {},
     "output_type": "execute_result"
    }
   ],
   "source": [
    "metrics(ksvm, 20, iris_db, species, \"setosa\", [-1,1])"
   ]
  },
  {
   "cell_type": "code",
   "execution_count": 43,
   "metadata": {},
   "outputs": [
    {
     "name": "stdout",
     "output_type": "stream",
     "text": [
      "Toda o processo durou: 299.411s\n"
     ]
    },
    {
     "data": {
      "text/plain": [
       "0.9566666666666663"
      ]
     },
     "execution_count": 43,
     "metadata": {},
     "output_type": "execute_result"
    }
   ],
   "source": [
    "metrics(ksvm, 20, iris_db, species, \"virginica\", [-1,1])"
   ]
  },
  {
   "cell_type": "code",
   "execution_count": 44,
   "metadata": {},
   "outputs": [
    {
     "name": "stdout",
     "output_type": "stream",
     "text": [
      "Toda o processo durou: 312.482s\n"
     ]
    },
    {
     "data": {
      "text/plain": [
       "0.9516666666666665"
      ]
     },
     "execution_count": 44,
     "metadata": {},
     "output_type": "execute_result"
    }
   ],
   "source": [
    "metrics(ksvm, 20, iris_db, species, \"versicolor\", [-1,1])"
   ]
  },
  {
   "cell_type": "markdown",
   "metadata": {},
   "source": [
    "<h3 style=\"text-align:center;\">Modelos de Regressão</h3>"
   ]
  },
  {
   "cell_type": "markdown",
   "metadata": {},
   "source": [
    "<h5>Métodos Auxiliares</h5>"
   ]
  },
  {
   "cell_type": "markdown",
   "metadata": {},
   "source": [
    "Descrição de cada método auxiliar\n",
    "<ul>\n",
    "    <li>test_model_regressao(modelo, db, class_db): Método para testar um modelo predizendo 3 padrões da base de dados, a saber são: o 1º, o 30º e o 90º.\n",
    "        <ul>\n",
    "            <li><i>modelo</i>: Modelo de regressão linear que será utilizado;</li>\n",
    "            <li><i>db</i>: Base de dados;</li>\n",
    "            <li><i>class_db</i>: Vetor de labels;</li>\n",
    "        </ul>\n",
    "    </li><br>\n",
    "    <li>gerarGrafico(modelo_1, modelo_2, db, class_db): Método para gerar um gráfico com as funções encontradas com os modelos de regressão linar e a função geradora\n",
    "        <ul>\n",
    "            <li><i>modelo_1</i>: Modelo de regressão linear que será utilizado;</li>\n",
    "            <li><i>modelo_1</i>: Modelo de regressão linear com Kernel que será utilizado;</li>\n",
    "            <li><i>db</i>: Base de dados;</li>\n",
    "            <li><i>class_db</i>: Vetor de labels;</li>\n",
    "        </ul>\n",
    "    </li>\n",
    "</ul>"
   ]
  },
  {
   "cell_type": "code",
   "execution_count": 45,
   "metadata": {},
   "outputs": [],
   "source": [
    "def test_model_regressao(modelo, db, class_db):\n",
    "    train_x, test_x, train_y, test_y = train_test(db, class_db)\n",
    "    modelo.train(train_x,train_y)\n",
    "    teste_1 = modelo.predict(db.loc[0])\n",
    "    teste_2 = modelo.predict(db.loc[30])\n",
    "    teste_3 = modelo.predict(db.loc[90])\n",
    "    return \"dado de indice 0 = {}, 30 = {}, valor da 90 = {}\".format(teste_1,teste_2,teste_3)"
   ]
  },
  {
   "cell_type": "code",
   "execution_count": 46,
   "metadata": {},
   "outputs": [],
   "source": [
    "def gerarGrafico(modelo_1, modelo_2, db, class_db):\n",
    "    train_x, test_x, train_y, test_y = train_test(db, class_db)\n",
    "    modelo_1.train(train_x,train_y)\n",
    "    modelo_2.train(train_x,train_y)\n",
    "    # Configurações do gráfico\n",
    "    plt.figure(figsize=(8,4))\n",
    "    plt.xlabel('x')\n",
    "    plt.ylabel('y')\n",
    "    plt.title('Função geradora x Funções encontradas pelos modelos')\n",
    "    # Plotar função gerado\n",
    "    plt.scatter(db,class_db, c=\"#ff0000\")\n",
    "    for indice, linha in db.iterrows():\n",
    "        y_1 = modelo_1.predict(linha)\n",
    "        # Plotar função obtido do modelo 1\n",
    "        plt.scatter(linha,y_1,c=\"#00ff00\")\n",
    "        y_2 = modelo_2.predict(linha)\n",
    "        # Plotar função obtido do modelo 2\n",
    "        plt.scatter(linha,y_2,c=\"#0000ff\")\n",
    "    plt.legend([\"Função geradora\", \"Regressão linear\", \"Regressão Linear com Kernel RBF\"], loc=2)\n",
    "    plt.savefig(\"Grafico_das_funcoes_encontradas.png\")"
   ]
  },
  {
   "cell_type": "markdown",
   "metadata": {},
   "source": [
    "<h5>Obtendo dados</h5>\n",
    "\n",
    "A função para obter a base de dados: $f(x) = 10*x² + 5 + ruido$"
   ]
  },
  {
   "cell_type": "code",
   "execution_count": 47,
   "metadata": {},
   "outputs": [],
   "source": [
    "def funcao_regressao(x):\n",
    "    return 10*x**2 + 5 + np.random.random()"
   ]
  },
  {
   "cell_type": "code",
   "execution_count": 48,
   "metadata": {},
   "outputs": [
    {
     "data": {
      "text/plain": [
       "13.163693208946405"
      ]
     },
     "execution_count": 48,
     "metadata": {},
     "output_type": "execute_result"
    }
   ],
   "source": [
    "regressao_class = pd.Series([funcao_regressao(x) for x in np.arange(0.0, 1.0, 0.01)])\n",
    "regressao_class.loc[90]"
   ]
  },
  {
   "cell_type": "code",
   "execution_count": 49,
   "metadata": {},
   "outputs": [
    {
     "data": {
      "text/html": [
       "<div>\n",
       "<style scoped>\n",
       "    .dataframe tbody tr th:only-of-type {\n",
       "        vertical-align: middle;\n",
       "    }\n",
       "\n",
       "    .dataframe tbody tr th {\n",
       "        vertical-align: top;\n",
       "    }\n",
       "\n",
       "    .dataframe thead th {\n",
       "        text-align: right;\n",
       "    }\n",
       "</style>\n",
       "<table border=\"1\" class=\"dataframe\">\n",
       "  <thead>\n",
       "    <tr style=\"text-align: right;\">\n",
       "      <th></th>\n",
       "      <th>x1</th>\n",
       "    </tr>\n",
       "  </thead>\n",
       "  <tbody>\n",
       "    <tr>\n",
       "      <th>0</th>\n",
       "      <td>0.00</td>\n",
       "    </tr>\n",
       "    <tr>\n",
       "      <th>1</th>\n",
       "      <td>0.01</td>\n",
       "    </tr>\n",
       "    <tr>\n",
       "      <th>2</th>\n",
       "      <td>0.02</td>\n",
       "    </tr>\n",
       "    <tr>\n",
       "      <th>3</th>\n",
       "      <td>0.03</td>\n",
       "    </tr>\n",
       "    <tr>\n",
       "      <th>4</th>\n",
       "      <td>0.04</td>\n",
       "    </tr>\n",
       "  </tbody>\n",
       "</table>\n",
       "</div>"
      ],
      "text/plain": [
       "     x1\n",
       "0  0.00\n",
       "1  0.01\n",
       "2  0.02\n",
       "3  0.03\n",
       "4  0.04"
      ]
     },
     "execution_count": 49,
     "metadata": {},
     "output_type": "execute_result"
    }
   ],
   "source": [
    "regressao_db = pd.DataFrame(np.arange(0.0, 1.0,0.01), columns=[\"x1\"])\n",
    "regressao_db.head()"
   ]
  },
  {
   "cell_type": "code",
   "execution_count": 50,
   "metadata": {},
   "outputs": [
    {
     "data": {
      "text/plain": [
       "<matplotlib.collections.PathCollection at 0x7faed9889da0>"
      ]
     },
     "execution_count": 50,
     "metadata": {},
     "output_type": "execute_result"
    },
    {
     "data": {
      "image/png": "[encoded data removed]",
      "text/plain": [
       "<Figure size 576x288 with 1 Axes>"
      ]
     },
     "metadata": {
      "needs_background": "light"
     },
     "output_type": "display_data"
    }
   ],
   "source": [
    "plt.figure(figsize=(8,4))\n",
    "plt.xlabel('x')\n",
    "plt.ylabel('y')\n",
    "plt.title('Função geradora f(x)=10*x**2 + 5 + ruido')\n",
    "# Plotar função geradora\n",
    "plt.scatter(regressao_db,regressao_class, c=\"#ff0000\")"
   ]
  },
  {
   "cell_type": "markdown",
   "metadata": {},
   "source": [
    "<h5>Regressão Linear</h5>"
   ]
  },
  {
   "cell_type": "code",
   "execution_count": 51,
   "metadata": {},
   "outputs": [],
   "source": [
    "class RegressaoLinear:\n",
    "    __slots__ = ['w']\n",
    "    \n",
    "    def __init__(self):\n",
    "        self.w = []\n",
    "    \n",
    "    def train(self, db, class_db, epocas=100,taxa_de_aprendizagem=0.01):\n",
    "        self.w = np.random.random((1,db.shape[1] + 1))\n",
    "        \n",
    "        x = np.concatenate((db, np.ones((db.shape[0],1)) ), axis=1)\n",
    "        new_db = pd.DataFrame(x)\n",
    "        new_db.index = db.index\n",
    "        matriz_inverse = np.linalg.inv(np.dot(new_db.T,new_db))\n",
    "        x_T_y = np.dot(new_db.T , class_db)\n",
    "        self.w = np.dot(matriz_inverse, x_T_y)\n",
    "        \n",
    "    def predict(self, linha):\n",
    "        x = np.array(list(linha) + [1])\n",
    "        return np.dot(x,self.w.T)"
   ]
  },
  {
   "cell_type": "code",
   "execution_count": 52,
   "metadata": {},
   "outputs": [],
   "source": [
    "rl = RegressaoLinear()"
   ]
  },
  {
   "cell_type": "code",
   "execution_count": 53,
   "metadata": {
    "scrolled": true
   },
   "outputs": [
    {
     "data": {
      "text/plain": [
       "'dado de indice 0 = 3.976958441140159, 30 = 6.899700530241711, valor da 90 = 12.745184708444818'"
      ]
     },
     "execution_count": 53,
     "metadata": {},
     "output_type": "execute_result"
    }
   ],
   "source": [
    "test_model_regressao(rl, regressao_db, regressao_class)"
   ]
  },
  {
   "cell_type": "markdown",
   "metadata": {},
   "source": [
    "<h5>Regressão Linear com Kernel</h5>"
   ]
  },
  {
   "cell_type": "code",
   "execution_count": 67,
   "metadata": {},
   "outputs": [],
   "source": [
    "class RegressaoLinearKernel:\n",
    "    __slots__ = ['w','x_train', 'alfa']\n",
    "    \n",
    "    def __init__(self):\n",
    "        self.w = []\n",
    "        self.x_train = []\n",
    "        self.alfa = []\n",
    "    \n",
    "    def train(self, db, class_db, epocas=100,taxa_de_aprendizagem=0.01, alfa=1):\n",
    "        self.w = np.random.random((1,db.shape[1] + 1))\n",
    "        self.alfa = alfa\n",
    "        \n",
    "        x = np.concatenate((db, np.ones((db.shape[0],1)) ), axis=1)\n",
    "        new_db = pd.DataFrame(x)\n",
    "        self.x_train = new_db\n",
    "        kernel = []\n",
    "        for i in range(new_db.shape[0]):\n",
    "            linha_k = []\n",
    "            for j in range(new_db.shape[0]):\n",
    "                linha_k += [self.kernel_rbf(new_db.iloc[i], new_db.iloc[j], self.alfa)]\n",
    "            kernel += [linha_k]\n",
    "        \n",
    "        matriz_kernel = np.array(kernel)\n",
    "        \n",
    "        matriz_inverse = np.linalg.inv(matriz_kernel)\n",
    "        self.w = np.dot(matriz_inverse, class_db)\n",
    "        \n",
    "    def kernel_rbf(self,x,z,alfa):\n",
    "        return np.exp(-(np.sqrt(np.sum((x-z)**2))/(2*(alfa**2))))\n",
    "    \n",
    "    def predict(self, linha):\n",
    "        x = np.array(list(linha) + [1])\n",
    "        linha_kernel = []\n",
    "        for i in range(self.x_train.shape[0]):\n",
    "            linha_kernel += [self.kernel_rbf(x,self.x_train.iloc[i], self.alfa)]\n",
    "        \n",
    "        kernel = np.array(linha_kernel)\n",
    "        \n",
    "        return np.dot(kernel,self.w.T)"
   ]
  },
  {
   "cell_type": "code",
   "execution_count": 68,
   "metadata": {},
   "outputs": [],
   "source": [
    "rlk = RegressaoLinearKernel()"
   ]
  },
  {
   "cell_type": "code",
   "execution_count": 56,
   "metadata": {},
   "outputs": [
    {
     "data": {
      "text/plain": [
       "'dado de indice 0 = 5.40403577458207, 30 = 6.801762934859028, valor da 90 = 13.163693208947137'"
      ]
     },
     "execution_count": 56,
     "metadata": {},
     "output_type": "execute_result"
    }
   ],
   "source": [
    "test_model_regressao(rlk, regressao_db, regressao_class)"
   ]
  },
  {
   "cell_type": "code",
   "execution_count": 69,
   "metadata": {},
   "outputs": [
    {
     "data": {
      "image/png": "[encoded data removed]",
      "text/plain": [
       "<Figure size 576x288 with 1 Axes>"
      ]
     },
     "metadata": {
      "needs_background": "light"
     },
     "output_type": "display_data"
    }
   ],
   "source": [
    "gerarGrafico(rl,rlk,regressao_db,regressao_class)"
   ]
  }
 ],
 "metadata": {
  "kernelspec": {
   "display_name": "Python 3",
   "language": "python",
   "name": "python3"
  },
  "language_info": {
   "codemirror_mode": {
    "name": "ipython",
    "version": 3
   },
   "file_extension": ".py",
   "mimetype": "text/x-python",
   "name": "python",
   "nbconvert_exporter": "python",
   "pygments_lexer": "ipython3",
   "version": "3.6.9"
  }
 },
 "nbformat": 4,
 "nbformat_minor": 4
}
